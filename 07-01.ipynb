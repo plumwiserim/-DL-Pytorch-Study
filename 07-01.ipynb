{
 "cells": [
  {
   "cell_type": "code",
   "execution_count": null,
   "metadata": {},
   "outputs": [],
   "source": [
    "# 07. 합성곱 신경망(Convolutioinal Nueral Network)\n",
    "# 주로 이미지, 비전 분야에서 사용되는 (하지만 자연어 처리에서도 일부 사용되는) 합성곱 신경망(CNN)\n",
    "\n",
    "# 합성곱 신경망은 크게 합성곱층(Convolution layer)와 풀링층(Pooling layer)로 구성된다. \n",
    "\n"
   ]
  }
 ],
 "metadata": {
  "language_info": {
   "name": "python"
  },
  "orig_nbformat": 4
 },
 "nbformat": 4,
 "nbformat_minor": 2
}
