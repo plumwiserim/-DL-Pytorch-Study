{
 "cells": [
  {
   "cell_type": "code",
   "execution_count": 1,
   "metadata": {},
   "outputs": [
    {
     "name": "stdout",
     "output_type": "stream",
     "text": [
      "tensor([0.0900, 0.2447, 0.6652])\n",
      "tensor(1.)\n",
      "tensor([[0.2645, 0.1639, 0.1855, 0.2585, 0.1277],\n",
      "        [0.2430, 0.1624, 0.2322, 0.1930, 0.1694],\n",
      "        [0.2226, 0.1986, 0.2326, 0.1594, 0.1868]], grad_fn=<SoftmaxBackward0>)\n"
     ]
    }
   ],
   "source": [
    "# 05-01. 원-핫 인코딩(One-hot encoding)\n",
    "\n",
    "# 05-02. 소프트맥스 회귀(Softmax Regression) 이해하기 \n",
    "# 로지스틱 회귀\n",
    "# : 로지스틱 회귀에서 시그모이드 함수는 예측값을 0과 1사이의 값으로 만듭니다. \n",
    "\n",
    "# 소프트맥스 회귀\n",
    "# : 소프트맥스 회귀는 확률의 총 합이 1이 되는 이 아이디어를 다중 클래스 분류 문제에 적용합니다 \n",
    "# : H(x) = softmax(WX + B)\n",
    "\n",
    "# 05-03. 소프트맥스 회귀의 비용 함수 구현하기 \n",
    "import torch\n",
    "import torch.nn.functional as F\n",
    "\n",
    "torch.manual_seed(1)\n",
    "\n",
    "# 1) 로우-레벨\n",
    "z = torch.FloatTensor([1, 2, 3])\n",
    "\n",
    "hypothesis = F.softmax(z, dim=0)\n",
    "print(hypothesis)\n",
    "\n",
    "print(hypothesis.sum())\n",
    "\n",
    "# 임의의 3 x 5 행렬의 크기를 가진 텐서를 만든다. \n",
    "z = torch.rand(3, 5, requires_grad=True)\n",
    "\n",
    "# 두 번째 차원에 대해서 소프트맥스 함수를 적용한다 \n",
    "hypothesis = F.softmax(z, dim=1)\n",
    "print(hypothesis)\n",
    "\n",
    "# 소프트 맥스 함수의 출력값 = 예측값\n",
    "# 3개의 샘플에 대해서 5개의 클래스 중 어떤 클래스가 정답인지를 예측 "
   ]
  },
  {
   "cell_type": "code",
   "execution_count": 4,
   "metadata": {},
   "outputs": [
    {
     "name": "stdout",
     "output_type": "stream",
     "text": [
      "tensor([3, 1, 4])\n",
      "tensor([[3],\n",
      "        [1],\n",
      "        [4]])\n",
      "tensor([[0., 0., 0., 1., 0.],\n",
      "        [0., 1., 0., 0., 0.],\n",
      "        [0., 0., 0., 0., 1.]])\n"
     ]
    }
   ],
   "source": [
    "# 각 샘플에 대해서 임의의 레이블을 만든다. \n",
    "y = torch.randint(5, (3, )).long()\n",
    "print(y)\n",
    "\n",
    "# 각 레이블에 대해서 원-핫 인코딩을 수행 \n",
    "# i) 모든 원소가 0의 값을 가진 3 x 5 텐서 생성 \n",
    "y_one_hot = torch.zeros_like(hypothesis)\n",
    "# ii) \n",
    "y_one_hot.scatter_(1, y.unsqueeze(1), 1)\n",
    "print(y.unsqueeze(1))\n",
    "\n",
    "# 원-핫 인코딩의 최종 결과\n",
    "print(y_one_hot)"
   ]
  },
  {
   "cell_type": "code",
   "execution_count": 5,
   "metadata": {},
   "outputs": [
    {
     "name": "stdout",
     "output_type": "stream",
     "text": [
      "tensor(1.6160, grad_fn=<MeanBackward0>)\n"
     ]
    }
   ],
   "source": [
    "# 비용함수 계산 \n",
    "cost = (y_one_hot * -torch.log(hypothesis)).sum(dim=1).mean()\n",
    "print(cost)"
   ]
  },
  {
   "cell_type": "code",
   "execution_count": 7,
   "metadata": {},
   "outputs": [
    {
     "name": "stdout",
     "output_type": "stream",
     "text": [
      "tensor([[-1.3301, -1.8084, -1.6846, -1.3530, -2.0584],\n",
      "        [-1.4147, -1.8174, -1.4602, -1.6450, -1.7758],\n",
      "        [-1.5025, -1.6165, -1.4586, -1.8360, -1.6776]], grad_fn=<LogBackward0>)\n",
      "tensor([[-1.3301, -1.8084, -1.6846, -1.3530, -2.0584],\n",
      "        [-1.4147, -1.8174, -1.4602, -1.6450, -1.7758],\n",
      "        [-1.5025, -1.6165, -1.4586, -1.8360, -1.6776]],\n",
      "       grad_fn=<LogSoftmaxBackward0>)\n",
      "\n",
      "tensor(1.6160, grad_fn=<MeanBackward0>)\n",
      "tensor(1.6160, grad_fn=<MeanBackward0>)\n",
      "tensor(1.6160, grad_fn=<NllLossBackward0>)\n",
      "tensor(1.6160, grad_fn=<NllLossBackward0>)\n"
     ]
    }
   ],
   "source": [
    "# 2) 하이-레벨\n",
    "# Low level \n",
    "print(torch.log(F.softmax(z, dim=1)))\n",
    "\n",
    "# High level \n",
    "print(F.log_softmax(z, dim=1))\n",
    "print()\n",
    "\n",
    "# Low level \n",
    "# 첫번째 수식\n",
    "print((y_one_hot * -torch.log(F.softmax(z, dim=1))).sum(dim=1).mean())\n",
    "\n",
    "# 두번째 수식\n",
    "print((y_one_hot * -F.log_softmax(z, dim=1)).sum(dim=1).mean())\n",
    "\n",
    "# High level \n",
    "# 세번째 수식\n",
    "print(F.nll_loss(F.log_softmax(z, dim=1), y))\n",
    "\n",
    "# nll(Negative Log Likelihood)\n",
    "\n",
    "# 네번째 수식\n",
    "print(F.cross_entropy(z, y))"
   ]
  },
  {
   "cell_type": "code",
   "execution_count": null,
   "metadata": {},
   "outputs": [],
   "source": []
  }
 ],
 "metadata": {
  "kernelspec": {
   "display_name": "Python 3",
   "language": "python",
   "name": "python3"
  },
  "language_info": {
   "codemirror_mode": {
    "name": "ipython",
    "version": 3
   },
   "file_extension": ".py",
   "mimetype": "text/x-python",
   "name": "python",
   "nbconvert_exporter": "python",
   "pygments_lexer": "ipython3",
   "version": "3.8.10"
  },
  "orig_nbformat": 4
 },
 "nbformat": 4,
 "nbformat_minor": 2
}
