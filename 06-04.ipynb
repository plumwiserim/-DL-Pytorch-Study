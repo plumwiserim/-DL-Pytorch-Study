{
 "cells": [
  {
   "cell_type": "markdown",
   "metadata": {},
   "source": [
    "### 06-04. 역전파(BackPropagation)\n",
    "\n",
    "- 순전파: 입력층에서 출력층으로 \n",
    "- 역전파: 출력층에서 입력층 방향으로 계산하면서 가중치 업데이트 \n",
    "  - 1단계: 출력층과 N층 사이의 가중치를 업데이트\n",
    "  - 2단계: N층과 N-1층 사이의 가중치 업데이트 \n"
   ]
  }
 ],
 "metadata": {
  "language_info": {
   "name": "python"
  },
  "orig_nbformat": 4
 },
 "nbformat": 4,
 "nbformat_minor": 2
}
