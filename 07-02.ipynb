{
 "cells": [
  {
   "cell_type": "code",
   "execution_count": 1,
   "metadata": {},
   "outputs": [
    {
     "name": "stdout",
     "output_type": "stream",
     "text": [
      "텐서의 크기: torch.Size([1, 1, 28, 28])\n"
     ]
    }
   ],
   "source": [
    "# 07-02. CNN으로 MNIST 분류하기 \n",
    "\n",
    "# 1) 필요한 도구 임포트와 입력 정의 \n",
    "import torch \n",
    "import torch.nn as nn\n",
    "\n",
    "# 배치 크기 * 채널 * 높이(height) * 너비(width) 크기의 텐서를 선언\n",
    "inputs = torch.Tensor(1, 1, 28, 28)\n",
    "print('텐서의 크기: {}'.format(inputs.shape))"
   ]
  },
  {
   "cell_type": "code",
   "execution_count": 2,
   "metadata": {},
   "outputs": [
    {
     "name": "stdout",
     "output_type": "stream",
     "text": [
      "Conv2d(1, 32, kernel_size=(3, 3), stride=(1, 1), padding=(1, 1))\n",
      "Conv2d(32, 64, kernel_size=(3, 3), stride=(1, 1), padding=(1, 1))\n",
      "MaxPool2d(kernel_size=2, stride=2, padding=0, dilation=1, ceil_mode=False)\n",
      "torch.Size([1, 32, 28, 28])\n",
      "torch.Size([1, 32, 14, 14])\n",
      "torch.Size([1, 64, 14, 14])\n",
      "torch.Size([1, 64, 7, 7])\n",
      "1\n",
      "64\n",
      "7\n",
      "7\n",
      "torch.Size([1, 3136])\n",
      "torch.Size([1, 10])\n"
     ]
    }
   ],
   "source": [
    "# 2) 합성곱층과 풀링 선언하기 \n",
    "conv1 = nn.Conv2d(1, 32, 3, padding=1)\n",
    "print(conv1)\n",
    "\n",
    "conv2 = nn.Conv2d(32, 64, kernel_size = 3, padding =1)\n",
    "print(conv2)\n",
    "\n",
    "pool = nn.MaxPool2d(2)\n",
    "print(pool)\n",
    "\n",
    "# 3) 구현체를 연결하여 모델 만들기 \n",
    "out = conv1(inputs)\n",
    "print(out.shape)\n",
    "\n",
    "out = pool(out)\n",
    "print(out.shape)\n",
    "\n",
    "out = conv2(out)\n",
    "print(out.shape)\n",
    "\n",
    "out = pool(out)\n",
    "print(out.shape)\n",
    "\n",
    "# 4) 텐서를 펼치는 작업 \n",
    "print(out.size(0))  # out의 첫번째 차원 = 1\n",
    "print(out.size(1))  # out의 두번째 차원 = 64\n",
    "print(out.size(2))  # out의 세번쨰 차원 = 7\n",
    "print(out.size(3))  # out의 네번째 차원 = 7\n",
    "\n",
    "# 첫번째 차원인 배치 차원은 그대로 두고 view()를 이용하여 나머지는 펼쳐라 \n",
    "# ex) reshape() = view()\n",
    "out = out.view(out.size(0), -1)\n",
    "print(out.shape)    # [1, 3136]\n",
    "\n",
    "# 전결합층(Fully-Connected layer) 선언\n",
    "fc = nn.Linear(3136, 10)    # input_dim = 3136, output_dim = 10\n",
    "\n",
    "# 구현체를 연결하여 모델 만들기 \n",
    "out = fc(out)\n",
    "print(out.shape)"
   ]
  },
  {
   "cell_type": "code",
   "execution_count": null,
   "metadata": {},
   "outputs": [],
   "source": [
    "import torch \n",
    "import torchvision.datasets as dsets\n",
    "import torchvision.transforms as transforms\n",
    "import torch.nn.init\n",
    "\n",
    "device = 'cuda' if torch.cuda.is_available() else 'cpu'\n",
    "\n",
    "# 랜덤 시드 고정\n",
    "torch.manual_seed(777)\n",
    "\n",
    "# GPU 사용 가능일 경우 랜덤 시드 고정\n",
    "if device == 'cuda': \n",
    "    torch.cuda.manual_seed_all(777)\n",
    "\n",
    "# 학습에 사용할 파라미터 설정\n",
    "learning_rate = 0.001\n",
    "training_epochs = 15\n",
    "batch_size = 100\n",
    "\n",
    "# 데이터셋 정의 \n",
    "mnist_train = dsets.MNIST(root = 'MNIST_data/', \n",
    "                          train=True, \n",
    "                          )\n",
    "\n",
    "# 데이터로더를 사용하여 데이터 다루기 "
   ]
  }
 ],
 "metadata": {
  "kernelspec": {
   "display_name": "Python 3",
   "language": "python",
   "name": "python3"
  },
  "language_info": {
   "codemirror_mode": {
    "name": "ipython",
    "version": 3
   },
   "file_extension": ".py",
   "mimetype": "text/x-python",
   "name": "python",
   "nbconvert_exporter": "python",
   "pygments_lexer": "ipython3",
   "version": "3.8.10"
  },
  "orig_nbformat": 4
 },
 "nbformat": 4,
 "nbformat_minor": 2
}
