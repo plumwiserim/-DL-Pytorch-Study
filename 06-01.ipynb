{
 "cells": [
  {
   "cell_type": "markdown",
   "metadata": {},
   "source": [
    "### 06-01. 머신 러닝 용어 이해하기 \n",
    "\n",
    "#### 분류(Classification)과 회귀(Regression)\n",
    "1) 이진 분류 문제(Binary Classification)\n",
    "2) 다중 클래스 분류(Multi-class Classification)\n",
    "3) 회귀 문제(Regression)\n",
    "\n",
    "#### 지도학습(Supervised learning)과 비지도 학습(Unsupervised Learning)\n",
    "머신러닝은 크게 지도학습, 비지도 학습, 강화학습으로 나눕니다. \n",
    "하지만 강화학습은 이 책의 범위를 벗어나므로 설명하지 않습니다. \n",
    "또한 이 책은 주로 지도학습에 대해서 다룹니다. \n",
    "1) 지도 학습\\\n",
    ": 이때 기계는 예측값과 실제값의 차이인 오차를 줄이는 방식으로 학습을 하게 됩니다.  \n",
    "2) 비지도 학습\\\n",
    ": 목적 데이터(레이블)이 없는 학습 방법입니다. \\\n",
    "대표적으로 군집(clustering)이나 차원축소와 같은 학습 방법들을 비지도 학습이라고 합니다. \n",
    "3) 강화 학습\\\n",
    ": 강화학습은 어떤 환경 내에서 정의된 에이전트가 현재의 상태를 인식하여, 선택 가능한 행동들 중 보상을 최대화하는 행동 혹은 행동 순서를 선택하는 방법입니다. \n",
    "\n"
   ]
  },
  {
   "cell_type": "code",
   "execution_count": null,
   "metadata": {},
   "outputs": [],
   "source": []
  }
 ],
 "metadata": {
  "language_info": {
   "name": "python"
  },
  "orig_nbformat": 4
 },
 "nbformat": 4,
 "nbformat_minor": 2
}
